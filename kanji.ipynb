{
 "cells": [
  {
   "cell_type": "code",
   "execution_count": 136,
   "metadata": {},
   "outputs": [],
   "source": [
    "from ankipandas import Collection\n",
    "from jamdict import Jamdict\n",
    "from jamdict.util import LookupResult\n",
    "from chirptext.deko import is_kana\n",
    "\n",
    "import pandas as pd\n",
    "\n",
    "pd.set_option('display.max_columns', None)"
   ]
  },
  {
   "cell_type": "code",
   "execution_count": 7,
   "metadata": {},
   "outputs": [
    {
     "output_type": "stream",
     "name": "stderr",
     "text": "\u001b[32mINFO: Loaded db from /home/matthieu/.local/share/Anki2/User 1/collection.anki2\u001b[0m\n"
    }
   ],
   "source": [
    "col = Collection()"
   ]
  },
  {
   "cell_type": "code",
   "execution_count": 24,
   "metadata": {},
   "outputs": [
    {
     "output_type": "execute_result",
     "data": {
      "text/plain": "                    nguid        nmod  nusn  \\\nnid                                           \n1559205847902  eT9NjCgoYk  1560104752   744   \n1559205847903  if1m,QMs>O  1560104752   744   \n1559205847904  o&Ra:0!aZS  1560104752   744   \n1559205847905  Q|I^ax+dT=  1560104752   744   \n1559205847906  G@w%QE?!%L  1560104752   744   \n\n                                              ntags         nmodel  \\\nnid                                                                  \n1559205847902                             [jlpt-n5]  Japanese-Core   \n1559205847903  [jlpt-n3, jlpt-n5, jlpt-n3, jlpt-n5]  Japanese-Core   \n1559205847904                    [jlpt-n5, jlpt-n5]  Japanese-Core   \n1559205847905                    [jlpt-n5, jlpt-n5]  Japanese-Core   \n1559205847906  [jlpt-n1, jlpt-n5, jlpt-n1, jlpt-n5]  Japanese-Core   \n\n              nfld_Expression                     nfld_Meaning nfld_Reading  \\\nnid                                                                           \n1559205847902              学校                           school     学校[がっこう]   \n1559205847903               川                    river, stream        川[かわ]   \n1559205847904               手                        hand, arm         手[て]   \n1559205847905               戸       door (esp. Japanese-style)         戸[と]   \n1559205847906              眼鏡  glasses, eyeglasses, spectacles      眼鏡[めがね]   \n\n              nfld_Grammar                            nfld_Additional_meaning  \nnid                                                                            \n1559205847902         Noun                                                     \n1559205847903         Noun                               River, the ... river  \n1559205847904         Noun  forepaw, foreleg; handle; hand, worker, help; ...  \n1559205847905         Noun  shutter, window shutter; entrance (to a home);...  \n1559205847906         Noun  judgment, judgement, discrimination, discernme...  ",
      "text/html": "<div>\n<style scoped>\n    .dataframe tbody tr th:only-of-type {\n        vertical-align: middle;\n    }\n\n    .dataframe tbody tr th {\n        vertical-align: top;\n    }\n\n    .dataframe thead th {\n        text-align: right;\n    }\n</style>\n<table border=\"1\" class=\"dataframe\">\n  <thead>\n    <tr style=\"text-align: right;\">\n      <th></th>\n      <th>nguid</th>\n      <th>nmod</th>\n      <th>nusn</th>\n      <th>ntags</th>\n      <th>nmodel</th>\n      <th>nfld_Expression</th>\n      <th>nfld_Meaning</th>\n      <th>nfld_Reading</th>\n      <th>nfld_Grammar</th>\n      <th>nfld_Additional_meaning</th>\n    </tr>\n    <tr>\n      <th>nid</th>\n      <th></th>\n      <th></th>\n      <th></th>\n      <th></th>\n      <th></th>\n      <th></th>\n      <th></th>\n      <th></th>\n      <th></th>\n      <th></th>\n    </tr>\n  </thead>\n  <tbody>\n    <tr>\n      <th>1559205847902</th>\n      <td>eT9NjCgoYk</td>\n      <td>1560104752</td>\n      <td>744</td>\n      <td>[jlpt-n5]</td>\n      <td>Japanese-Core</td>\n      <td>学校</td>\n      <td>school</td>\n      <td>学校[がっこう]</td>\n      <td>Noun</td>\n      <td></td>\n    </tr>\n    <tr>\n      <th>1559205847903</th>\n      <td>if1m,QMs&gt;O</td>\n      <td>1560104752</td>\n      <td>744</td>\n      <td>[jlpt-n3, jlpt-n5, jlpt-n3, jlpt-n5]</td>\n      <td>Japanese-Core</td>\n      <td>川</td>\n      <td>river, stream</td>\n      <td>川[かわ]</td>\n      <td>Noun</td>\n      <td>River, the ... river</td>\n    </tr>\n    <tr>\n      <th>1559205847904</th>\n      <td>o&amp;Ra:0!aZS</td>\n      <td>1560104752</td>\n      <td>744</td>\n      <td>[jlpt-n5, jlpt-n5]</td>\n      <td>Japanese-Core</td>\n      <td>手</td>\n      <td>hand, arm</td>\n      <td>手[て]</td>\n      <td>Noun</td>\n      <td>forepaw, foreleg; handle; hand, worker, help; ...</td>\n    </tr>\n    <tr>\n      <th>1559205847905</th>\n      <td>Q|I^ax+dT=</td>\n      <td>1560104752</td>\n      <td>744</td>\n      <td>[jlpt-n5, jlpt-n5]</td>\n      <td>Japanese-Core</td>\n      <td>戸</td>\n      <td>door (esp. Japanese-style)</td>\n      <td>戸[と]</td>\n      <td>Noun</td>\n      <td>shutter, window shutter; entrance (to a home);...</td>\n    </tr>\n    <tr>\n      <th>1559205847906</th>\n      <td>G@w%QE?!%L</td>\n      <td>1560104752</td>\n      <td>744</td>\n      <td>[jlpt-n1, jlpt-n5, jlpt-n1, jlpt-n5]</td>\n      <td>Japanese-Core</td>\n      <td>眼鏡</td>\n      <td>glasses, eyeglasses, spectacles</td>\n      <td>眼鏡[めがね]</td>\n      <td>Noun</td>\n      <td>judgment, judgement, discrimination, discernme...</td>\n    </tr>\n  </tbody>\n</table>\n</div>"
     },
     "metadata": {},
     "execution_count": 24
    }
   ],
   "source": [
    "notes = col.notes\n",
    "notes = notes[notes.nmodel == 'Japanese-Core']\n",
    "notes = notes.fields_as_columns()\n",
    "notes.head()"
   ]
  },
  {
   "cell_type": "code",
   "execution_count": 26,
   "metadata": {},
   "outputs": [],
   "source": [
    "jmd = Jamdict()"
   ]
  },
  {
   "cell_type": "code",
   "execution_count": 142,
   "metadata": {},
   "outputs": [
    {
     "output_type": "execute_result",
     "data": {
      "text/plain": "[{'kanji': '川',\n  'on': {'カ', 'セン'},\n  'kun': {'かわ'},\n  'meaning': {'river',\n   'river or three-stroke river radical (no. 47)',\n   'stream'}}]"
     },
     "metadata": {},
     "execution_count": 142
    }
   ],
   "source": [
    "def readings(kanji: str):\n",
    "    on = []\n",
    "    kun = []\n",
    "    mean = []\n",
    "\n",
    "    if is_kana(kanji):\n",
    "        return None\n",
    "\n",
    "    k = jmd.lookup(kanji)\n",
    "\n",
    "    for c in k.chars:\n",
    "        for r in c.rm_groups:\n",
    "            on = on + [r.value for r in filter(lambda x : x.r_type == 'ja_on', r.readings)]\n",
    "            kun = kun + [r.value for r in filter(lambda x : x.r_type == 'ja_kun', r.readings)]\n",
    "            mean = mean   + [r.value for r in filter(lambda x : x.m_lang == '', r.meanings)]\n",
    "        \n",
    "    return {'kanji' : kanji, 'on': set(on), 'kun' :set(kun), 'meaning': set(mean)}\n",
    "\n",
    "def define(s: str):\n",
    "    return list(filter(None, [readings(k) for k in s]))\n",
    "\n",
    "define('川かわ')"
   ]
  }
 ],
 "metadata": {
  "language_info": {
   "codemirror_mode": {
    "name": "ipython",
    "version": 3
   },
   "file_extension": ".py",
   "mimetype": "text/x-python",
   "name": "python",
   "nbconvert_exporter": "python",
   "pygments_lexer": "ipython3",
   "version": "3.8.2-final"
  },
  "orig_nbformat": 2,
  "kernelspec": {
   "name": "python38264bitankivenva579b461fb9647c4afbc8631898ff3d1",
   "display_name": "Python 3.8.2 64-bit ('anki': venv)"
  }
 },
 "nbformat": 4,
 "nbformat_minor": 2
}